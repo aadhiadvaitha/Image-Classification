{
  "nbformat": 4,
  "nbformat_minor": 0,
  "metadata": {
    "colab": {
      "name": "MinorProject.ipynb",
      "provenance": [],
      "collapsed_sections": [],
      "authorship_tag": "ABX9TyORyS5zYP9OWwEDYYXyTB5v",
      "include_colab_link": true
    },
    "kernelspec": {
      "name": "python3",
      "display_name": "Python 3"
    },
    "language_info": {
      "name": "python"
    }
  },
  "cells": [
    {
      "cell_type": "markdown",
      "metadata": {
        "id": "view-in-github",
        "colab_type": "text"
      },
      "source": [
        "<a href=\"https://colab.research.google.com/github/aadhiadvaitha/Image-Classification/blob/main/MinorProject.ipynb\" target=\"_parent\"><img src=\"https://colab.research.google.com/assets/colab-badge.svg\" alt=\"Open In Colab\"/></a>"
      ]
    },
    {
      "cell_type": "code",
      "metadata": {
        "id": "pclqAJVgsv9H"
      },
      "source": [
        "#Kindly import the folder \"data\" containing folders \"Elephant\" and \"Giraffe\" under the folder sample data \n",
        "#The google drive link for the folders are shared\n",
        "import pandas as pd\n",
        "import numpy as np\n",
        "import matplotlib.pyplot as plt\n",
        "from skimage.io import imread\n",
        "from skimage.transform import resize\n",
        "import os"
      ],
      "execution_count": null,
      "outputs": []
    },
    {
      "cell_type": "code",
      "metadata": {
        "id": "9kgkZuf5tFVP"
      },
      "source": [
        "import sys\n",
        "import os\n",
        "import numpy as np\n",
        "datadir = sys.path.append('/content/sample_data/data')\n",
        "import Elephant\n",
        "import Giraffe"
      ],
      "execution_count": null,
      "outputs": []
    },
    {
      "cell_type": "code",
      "metadata": {
        "id": "4mTZvZL9wnYf"
      },
      "source": [
        "#preprocessing\n",
        "import pandas as pd\n",
        "import matplotlib.pyplot as plt\n",
        "from skimage.io import imread\n",
        "from skimage.transform import resize\n",
        "import os\n",
        "import numpy as np\n",
        "from PIL import ImageFile\n",
        "ImageFile.LOAD_TRUNCATED_IMAGES = True\n",
        "\n",
        "\n",
        "datadir = '/content/sample_data/data'\n",
        "\n",
        "target = []\n",
        "images=[]\n",
        "flat_data = []\n",
        "#0 means elephant and 1 means giraffe\n",
        "CATEGORIES = ['Elephant','Giraffe']\n",
        "for category in CATEGORIES:\n",
        "  class_num=CATEGORIES.index(category)\n",
        "  path = os.path.join(datadir,category)\n",
        "  \n",
        "  for img in os.listdir(path):\n",
        "    img_array = imread(os.path.join(path,img))\n",
        "    img_resized = resize(img_array,(150,150,3)) \n",
        "    flat_data.append(img_resized.flatten())\n",
        "    images.append(img_resized)\n",
        "    target.append(class_num) \n",
        "\n",
        "flat_data = np.array(flat_data)\n",
        "target = np.array(target)\n",
        "images=np.array(images)"
      ],
      "execution_count": null,
      "outputs": []
    },
    {
      "cell_type": "code",
      "metadata": {
        "colab": {
          "base_uri": "https://localhost:8080/",
          "height": 248
        },
        "id": "IjAdPi2Owz2P",
        "outputId": "ddf98c60-de4c-41c8-a607-0103535f26ff"
      },
      "source": [
        "#flattening\n",
        "df = pd.DataFrame(flat_data)\n",
        "df['Target'] = target\n",
        "df.head()"
      ],
      "execution_count": null,
      "outputs": [
        {
          "output_type": "execute_result",
          "data": {
            "text/html": [
              "<div>\n",
              "<style scoped>\n",
              "    .dataframe tbody tr th:only-of-type {\n",
              "        vertical-align: middle;\n",
              "    }\n",
              "\n",
              "    .dataframe tbody tr th {\n",
              "        vertical-align: top;\n",
              "    }\n",
              "\n",
              "    .dataframe thead th {\n",
              "        text-align: right;\n",
              "    }\n",
              "</style>\n",
              "<table border=\"1\" class=\"dataframe\">\n",
              "  <thead>\n",
              "    <tr style=\"text-align: right;\">\n",
              "      <th></th>\n",
              "      <th>0</th>\n",
              "      <th>1</th>\n",
              "      <th>2</th>\n",
              "      <th>3</th>\n",
              "      <th>4</th>\n",
              "      <th>5</th>\n",
              "      <th>6</th>\n",
              "      <th>7</th>\n",
              "      <th>8</th>\n",
              "      <th>9</th>\n",
              "      <th>10</th>\n",
              "      <th>11</th>\n",
              "      <th>12</th>\n",
              "      <th>13</th>\n",
              "      <th>14</th>\n",
              "      <th>15</th>\n",
              "      <th>16</th>\n",
              "      <th>17</th>\n",
              "      <th>18</th>\n",
              "      <th>19</th>\n",
              "      <th>20</th>\n",
              "      <th>21</th>\n",
              "      <th>22</th>\n",
              "      <th>23</th>\n",
              "      <th>24</th>\n",
              "      <th>25</th>\n",
              "      <th>26</th>\n",
              "      <th>27</th>\n",
              "      <th>28</th>\n",
              "      <th>29</th>\n",
              "      <th>30</th>\n",
              "      <th>31</th>\n",
              "      <th>32</th>\n",
              "      <th>33</th>\n",
              "      <th>34</th>\n",
              "      <th>35</th>\n",
              "      <th>36</th>\n",
              "      <th>37</th>\n",
              "      <th>38</th>\n",
              "      <th>39</th>\n",
              "      <th>...</th>\n",
              "      <th>67461</th>\n",
              "      <th>67462</th>\n",
              "      <th>67463</th>\n",
              "      <th>67464</th>\n",
              "      <th>67465</th>\n",
              "      <th>67466</th>\n",
              "      <th>67467</th>\n",
              "      <th>67468</th>\n",
              "      <th>67469</th>\n",
              "      <th>67470</th>\n",
              "      <th>67471</th>\n",
              "      <th>67472</th>\n",
              "      <th>67473</th>\n",
              "      <th>67474</th>\n",
              "      <th>67475</th>\n",
              "      <th>67476</th>\n",
              "      <th>67477</th>\n",
              "      <th>67478</th>\n",
              "      <th>67479</th>\n",
              "      <th>67480</th>\n",
              "      <th>67481</th>\n",
              "      <th>67482</th>\n",
              "      <th>67483</th>\n",
              "      <th>67484</th>\n",
              "      <th>67485</th>\n",
              "      <th>67486</th>\n",
              "      <th>67487</th>\n",
              "      <th>67488</th>\n",
              "      <th>67489</th>\n",
              "      <th>67490</th>\n",
              "      <th>67491</th>\n",
              "      <th>67492</th>\n",
              "      <th>67493</th>\n",
              "      <th>67494</th>\n",
              "      <th>67495</th>\n",
              "      <th>67496</th>\n",
              "      <th>67497</th>\n",
              "      <th>67498</th>\n",
              "      <th>67499</th>\n",
              "      <th>Target</th>\n",
              "    </tr>\n",
              "  </thead>\n",
              "  <tbody>\n",
              "    <tr>\n",
              "      <th>0</th>\n",
              "      <td>0.015196</td>\n",
              "      <td>0.090196</td>\n",
              "      <td>0.013725</td>\n",
              "      <td>0.044608</td>\n",
              "      <td>0.159314</td>\n",
              "      <td>0.062990</td>\n",
              "      <td>0.026471</td>\n",
              "      <td>0.162745</td>\n",
              "      <td>0.044608</td>\n",
              "      <td>0.082353</td>\n",
              "      <td>0.211275</td>\n",
              "      <td>0.077696</td>\n",
              "      <td>0.070588</td>\n",
              "      <td>0.165441</td>\n",
              "      <td>0.039706</td>\n",
              "      <td>0.039706</td>\n",
              "      <td>0.088971</td>\n",
              "      <td>0.007353</td>\n",
              "      <td>0.005882</td>\n",
              "      <td>0.019363</td>\n",
              "      <td>0.000000</td>\n",
              "      <td>0.003676</td>\n",
              "      <td>0.017892</td>\n",
              "      <td>0.000000</td>\n",
              "      <td>0.212010</td>\n",
              "      <td>0.255392</td>\n",
              "      <td>0.201471</td>\n",
              "      <td>0.184804</td>\n",
              "      <td>0.266422</td>\n",
              "      <td>0.216912</td>\n",
              "      <td>0.100490</td>\n",
              "      <td>0.199020</td>\n",
              "      <td>0.112990</td>\n",
              "      <td>0.202696</td>\n",
              "      <td>0.266667</td>\n",
              "      <td>0.104902</td>\n",
              "      <td>0.311765</td>\n",
              "      <td>0.358824</td>\n",
              "      <td>0.205882</td>\n",
              "      <td>0.404412</td>\n",
              "      <td>...</td>\n",
              "      <td>0.390931</td>\n",
              "      <td>0.526471</td>\n",
              "      <td>0.236029</td>\n",
              "      <td>0.387010</td>\n",
              "      <td>0.528431</td>\n",
              "      <td>0.222304</td>\n",
              "      <td>0.409804</td>\n",
              "      <td>0.564461</td>\n",
              "      <td>0.257598</td>\n",
              "      <td>0.383088</td>\n",
              "      <td>0.529902</td>\n",
              "      <td>0.251716</td>\n",
              "      <td>0.391176</td>\n",
              "      <td>0.525490</td>\n",
              "      <td>0.278186</td>\n",
              "      <td>0.460539</td>\n",
              "      <td>0.583088</td>\n",
              "      <td>0.352696</td>\n",
              "      <td>0.446569</td>\n",
              "      <td>0.559559</td>\n",
              "      <td>0.327696</td>\n",
              "      <td>0.418873</td>\n",
              "      <td>0.525980</td>\n",
              "      <td>0.285049</td>\n",
              "      <td>0.458578</td>\n",
              "      <td>0.553186</td>\n",
              "      <td>0.314461</td>\n",
              "      <td>0.449510</td>\n",
              "      <td>0.531618</td>\n",
              "      <td>0.310049</td>\n",
              "      <td>0.445098</td>\n",
              "      <td>0.515441</td>\n",
              "      <td>0.321078</td>\n",
              "      <td>0.533824</td>\n",
              "      <td>0.593873</td>\n",
              "      <td>0.431373</td>\n",
              "      <td>0.405882</td>\n",
              "      <td>0.510784</td>\n",
              "      <td>0.276225</td>\n",
              "      <td>0</td>\n",
              "    </tr>\n",
              "    <tr>\n",
              "      <th>1</th>\n",
              "      <td>0.533056</td>\n",
              "      <td>0.662467</td>\n",
              "      <td>0.549974</td>\n",
              "      <td>0.438520</td>\n",
              "      <td>0.563029</td>\n",
              "      <td>0.479696</td>\n",
              "      <td>0.518709</td>\n",
              "      <td>0.636029</td>\n",
              "      <td>0.605827</td>\n",
              "      <td>0.599196</td>\n",
              "      <td>0.709327</td>\n",
              "      <td>0.723052</td>\n",
              "      <td>0.471039</td>\n",
              "      <td>0.573980</td>\n",
              "      <td>0.621039</td>\n",
              "      <td>0.496003</td>\n",
              "      <td>0.600000</td>\n",
              "      <td>0.648944</td>\n",
              "      <td>0.625235</td>\n",
              "      <td>0.731118</td>\n",
              "      <td>0.763144</td>\n",
              "      <td>0.507078</td>\n",
              "      <td>0.616882</td>\n",
              "      <td>0.626686</td>\n",
              "      <td>0.501572</td>\n",
              "      <td>0.609415</td>\n",
              "      <td>0.609915</td>\n",
              "      <td>0.485144</td>\n",
              "      <td>0.571418</td>\n",
              "      <td>0.614265</td>\n",
              "      <td>0.486971</td>\n",
              "      <td>0.573245</td>\n",
              "      <td>0.616382</td>\n",
              "      <td>0.595866</td>\n",
              "      <td>0.682141</td>\n",
              "      <td>0.725278</td>\n",
              "      <td>0.615964</td>\n",
              "      <td>0.702239</td>\n",
              "      <td>0.745376</td>\n",
              "      <td>0.557725</td>\n",
              "      <td>...</td>\n",
              "      <td>0.586752</td>\n",
              "      <td>0.664601</td>\n",
              "      <td>0.637820</td>\n",
              "      <td>0.618663</td>\n",
              "      <td>0.697095</td>\n",
              "      <td>0.660938</td>\n",
              "      <td>0.580441</td>\n",
              "      <td>0.660833</td>\n",
              "      <td>0.611059</td>\n",
              "      <td>0.514915</td>\n",
              "      <td>0.601190</td>\n",
              "      <td>0.514984</td>\n",
              "      <td>0.472101</td>\n",
              "      <td>0.551186</td>\n",
              "      <td>0.453801</td>\n",
              "      <td>0.466627</td>\n",
              "      <td>0.542118</td>\n",
              "      <td>0.426431</td>\n",
              "      <td>0.456389</td>\n",
              "      <td>0.525964</td>\n",
              "      <td>0.388056</td>\n",
              "      <td>0.383529</td>\n",
              "      <td>0.445915</td>\n",
              "      <td>0.303284</td>\n",
              "      <td>0.325480</td>\n",
              "      <td>0.380059</td>\n",
              "      <td>0.239971</td>\n",
              "      <td>0.322186</td>\n",
              "      <td>0.365252</td>\n",
              "      <td>0.232608</td>\n",
              "      <td>0.331784</td>\n",
              "      <td>0.367660</td>\n",
              "      <td>0.245801</td>\n",
              "      <td>0.353157</td>\n",
              "      <td>0.377010</td>\n",
              "      <td>0.251853</td>\n",
              "      <td>0.365569</td>\n",
              "      <td>0.385608</td>\n",
              "      <td>0.259255</td>\n",
              "      <td>0</td>\n",
              "    </tr>\n",
              "    <tr>\n",
              "      <th>2</th>\n",
              "      <td>0.526353</td>\n",
              "      <td>0.471413</td>\n",
              "      <td>0.301725</td>\n",
              "      <td>0.466824</td>\n",
              "      <td>0.427608</td>\n",
              "      <td>0.253020</td>\n",
              "      <td>0.360784</td>\n",
              "      <td>0.341176</td>\n",
              "      <td>0.202949</td>\n",
              "      <td>0.460000</td>\n",
              "      <td>0.420549</td>\n",
              "      <td>0.259294</td>\n",
              "      <td>0.530692</td>\n",
              "      <td>0.485020</td>\n",
              "      <td>0.328157</td>\n",
              "      <td>0.434880</td>\n",
              "      <td>0.407373</td>\n",
              "      <td>0.255316</td>\n",
              "      <td>0.593490</td>\n",
              "      <td>0.530196</td>\n",
              "      <td>0.377255</td>\n",
              "      <td>0.641396</td>\n",
              "      <td>0.566745</td>\n",
              "      <td>0.365412</td>\n",
              "      <td>0.681490</td>\n",
              "      <td>0.614654</td>\n",
              "      <td>0.391125</td>\n",
              "      <td>0.721578</td>\n",
              "      <td>0.658824</td>\n",
              "      <td>0.427451</td>\n",
              "      <td>0.694268</td>\n",
              "      <td>0.631523</td>\n",
              "      <td>0.364621</td>\n",
              "      <td>0.708549</td>\n",
              "      <td>0.653722</td>\n",
              "      <td>0.425016</td>\n",
              "      <td>0.725725</td>\n",
              "      <td>0.643137</td>\n",
              "      <td>0.466902</td>\n",
              "      <td>0.692627</td>\n",
              "      <td>...</td>\n",
              "      <td>0.988235</td>\n",
              "      <td>0.823529</td>\n",
              "      <td>0.529176</td>\n",
              "      <td>0.980392</td>\n",
              "      <td>0.796078</td>\n",
              "      <td>0.509879</td>\n",
              "      <td>0.984314</td>\n",
              "      <td>0.823680</td>\n",
              "      <td>0.549020</td>\n",
              "      <td>0.953098</td>\n",
              "      <td>0.776627</td>\n",
              "      <td>0.490353</td>\n",
              "      <td>0.941176</td>\n",
              "      <td>0.749020</td>\n",
              "      <td>0.478431</td>\n",
              "      <td>0.913725</td>\n",
              "      <td>0.717647</td>\n",
              "      <td>0.462745</td>\n",
              "      <td>0.952646</td>\n",
              "      <td>0.752941</td>\n",
              "      <td>0.478431</td>\n",
              "      <td>0.964885</td>\n",
              "      <td>0.776471</td>\n",
              "      <td>0.486510</td>\n",
              "      <td>0.941412</td>\n",
              "      <td>0.739112</td>\n",
              "      <td>0.462745</td>\n",
              "      <td>0.952941</td>\n",
              "      <td>0.752913</td>\n",
              "      <td>0.470588</td>\n",
              "      <td>0.964518</td>\n",
              "      <td>0.752941</td>\n",
              "      <td>0.474510</td>\n",
              "      <td>0.984314</td>\n",
              "      <td>0.770780</td>\n",
              "      <td>0.494118</td>\n",
              "      <td>0.972549</td>\n",
              "      <td>0.776471</td>\n",
              "      <td>0.505845</td>\n",
              "      <td>0</td>\n",
              "    </tr>\n",
              "    <tr>\n",
              "      <th>3</th>\n",
              "      <td>0.661503</td>\n",
              "      <td>0.594837</td>\n",
              "      <td>0.524615</td>\n",
              "      <td>0.671347</td>\n",
              "      <td>0.604680</td>\n",
              "      <td>0.534615</td>\n",
              "      <td>0.683427</td>\n",
              "      <td>0.616760</td>\n",
              "      <td>0.546172</td>\n",
              "      <td>0.690393</td>\n",
              "      <td>0.623727</td>\n",
              "      <td>0.553138</td>\n",
              "      <td>0.688575</td>\n",
              "      <td>0.621908</td>\n",
              "      <td>0.551320</td>\n",
              "      <td>0.695819</td>\n",
              "      <td>0.629152</td>\n",
              "      <td>0.558564</td>\n",
              "      <td>0.704957</td>\n",
              "      <td>0.638290</td>\n",
              "      <td>0.568277</td>\n",
              "      <td>0.699678</td>\n",
              "      <td>0.633012</td>\n",
              "      <td>0.562424</td>\n",
              "      <td>0.686983</td>\n",
              "      <td>0.620317</td>\n",
              "      <td>0.549728</td>\n",
              "      <td>0.699843</td>\n",
              "      <td>0.611402</td>\n",
              "      <td>0.555503</td>\n",
              "      <td>0.682422</td>\n",
              "      <td>0.592226</td>\n",
              "      <td>0.537686</td>\n",
              "      <td>0.669259</td>\n",
              "      <td>0.581216</td>\n",
              "      <td>0.524161</td>\n",
              "      <td>0.691782</td>\n",
              "      <td>0.604702</td>\n",
              "      <td>0.546684</td>\n",
              "      <td>0.721935</td>\n",
              "      <td>...</td>\n",
              "      <td>0.880719</td>\n",
              "      <td>0.747386</td>\n",
              "      <td>0.566993</td>\n",
              "      <td>0.897560</td>\n",
              "      <td>0.765420</td>\n",
              "      <td>0.587180</td>\n",
              "      <td>0.915752</td>\n",
              "      <td>0.762810</td>\n",
              "      <td>0.597529</td>\n",
              "      <td>0.916510</td>\n",
              "      <td>0.764271</td>\n",
              "      <td>0.597585</td>\n",
              "      <td>0.892967</td>\n",
              "      <td>0.741784</td>\n",
              "      <td>0.564722</td>\n",
              "      <td>0.908356</td>\n",
              "      <td>0.760842</td>\n",
              "      <td>0.582865</td>\n",
              "      <td>0.879438</td>\n",
              "      <td>0.730418</td>\n",
              "      <td>0.546105</td>\n",
              "      <td>0.875148</td>\n",
              "      <td>0.726129</td>\n",
              "      <td>0.537318</td>\n",
              "      <td>0.876941</td>\n",
              "      <td>0.725479</td>\n",
              "      <td>0.534225</td>\n",
              "      <td>0.874120</td>\n",
              "      <td>0.725073</td>\n",
              "      <td>0.529072</td>\n",
              "      <td>0.949346</td>\n",
              "      <td>0.804248</td>\n",
              "      <td>0.600327</td>\n",
              "      <td>0.933333</td>\n",
              "      <td>0.784667</td>\n",
              "      <td>0.605725</td>\n",
              "      <td>0.898745</td>\n",
              "      <td>0.746379</td>\n",
              "      <td>0.569908</td>\n",
              "      <td>0</td>\n",
              "    </tr>\n",
              "    <tr>\n",
              "      <th>4</th>\n",
              "      <td>0.269062</td>\n",
              "      <td>0.253376</td>\n",
              "      <td>0.320042</td>\n",
              "      <td>0.387549</td>\n",
              "      <td>0.371863</td>\n",
              "      <td>0.438529</td>\n",
              "      <td>0.388036</td>\n",
              "      <td>0.372350</td>\n",
              "      <td>0.439016</td>\n",
              "      <td>0.412337</td>\n",
              "      <td>0.396650</td>\n",
              "      <td>0.463317</td>\n",
              "      <td>0.345098</td>\n",
              "      <td>0.329412</td>\n",
              "      <td>0.396078</td>\n",
              "      <td>0.294827</td>\n",
              "      <td>0.279141</td>\n",
              "      <td>0.345807</td>\n",
              "      <td>0.403624</td>\n",
              "      <td>0.387938</td>\n",
              "      <td>0.454605</td>\n",
              "      <td>0.414431</td>\n",
              "      <td>0.398745</td>\n",
              "      <td>0.465412</td>\n",
              "      <td>0.344634</td>\n",
              "      <td>0.328948</td>\n",
              "      <td>0.391402</td>\n",
              "      <td>0.327882</td>\n",
              "      <td>0.312196</td>\n",
              "      <td>0.371056</td>\n",
              "      <td>0.331157</td>\n",
              "      <td>0.315471</td>\n",
              "      <td>0.374294</td>\n",
              "      <td>0.334127</td>\n",
              "      <td>0.318441</td>\n",
              "      <td>0.377265</td>\n",
              "      <td>0.335637</td>\n",
              "      <td>0.319951</td>\n",
              "      <td>0.378775</td>\n",
              "      <td>0.362088</td>\n",
              "      <td>...</td>\n",
              "      <td>0.789768</td>\n",
              "      <td>0.825062</td>\n",
              "      <td>0.891729</td>\n",
              "      <td>0.762748</td>\n",
              "      <td>0.798042</td>\n",
              "      <td>0.864709</td>\n",
              "      <td>0.720686</td>\n",
              "      <td>0.758922</td>\n",
              "      <td>0.824608</td>\n",
              "      <td>0.696170</td>\n",
              "      <td>0.743229</td>\n",
              "      <td>0.805974</td>\n",
              "      <td>0.706559</td>\n",
              "      <td>0.753618</td>\n",
              "      <td>0.816363</td>\n",
              "      <td>0.716657</td>\n",
              "      <td>0.763716</td>\n",
              "      <td>0.826461</td>\n",
              "      <td>0.724719</td>\n",
              "      <td>0.771778</td>\n",
              "      <td>0.834523</td>\n",
              "      <td>0.688892</td>\n",
              "      <td>0.735951</td>\n",
              "      <td>0.798696</td>\n",
              "      <td>0.708255</td>\n",
              "      <td>0.755314</td>\n",
              "      <td>0.818059</td>\n",
              "      <td>0.731941</td>\n",
              "      <td>0.779000</td>\n",
              "      <td>0.841745</td>\n",
              "      <td>0.755523</td>\n",
              "      <td>0.802582</td>\n",
              "      <td>0.865327</td>\n",
              "      <td>0.737696</td>\n",
              "      <td>0.784755</td>\n",
              "      <td>0.838353</td>\n",
              "      <td>0.559297</td>\n",
              "      <td>0.606356</td>\n",
              "      <td>0.653415</td>\n",
              "      <td>0</td>\n",
              "    </tr>\n",
              "  </tbody>\n",
              "</table>\n",
              "<p>5 rows × 67501 columns</p>\n",
              "</div>"
            ],
            "text/plain": [
              "          0         1         2         3  ...     67497     67498     67499  Target\n",
              "0  0.015196  0.090196  0.013725  0.044608  ...  0.405882  0.510784  0.276225       0\n",
              "1  0.533056  0.662467  0.549974  0.438520  ...  0.365569  0.385608  0.259255       0\n",
              "2  0.526353  0.471413  0.301725  0.466824  ...  0.972549  0.776471  0.505845       0\n",
              "3  0.661503  0.594837  0.524615  0.671347  ...  0.898745  0.746379  0.569908       0\n",
              "4  0.269062  0.253376  0.320042  0.387549  ...  0.559297  0.606356  0.653415       0\n",
              "\n",
              "[5 rows x 67501 columns]"
            ]
          },
          "metadata": {
            "tags": []
          },
          "execution_count": 9
        }
      ]
    },
    {
      "cell_type": "code",
      "metadata": {
        "colab": {
          "base_uri": "https://localhost:8080/"
        },
        "id": "Kx10Xq2bw6z6",
        "outputId": "5e98b047-06e5-4a7b-c591-e57ba1fe5425"
      },
      "source": [
        "flat_data"
      ],
      "execution_count": null,
      "outputs": [
        {
          "output_type": "execute_result",
          "data": {
            "text/plain": [
              "array([[0.01519608, 0.09019608, 0.01372549, ..., 0.40588235, 0.51078431,\n",
              "        0.27622549],\n",
              "       [0.53305556, 0.66246732, 0.54997386, ..., 0.36556863, 0.38560784,\n",
              "        0.2592549 ],\n",
              "       [0.52635294, 0.47141333, 0.30172549, ..., 0.97254902, 0.77647059,\n",
              "        0.50584471],\n",
              "       ...,\n",
              "       [0.17533333, 0.18317647, 0.18186928, ..., 0.47562092, 0.58934641,\n",
              "        0.22856209],\n",
              "       [0.71372549, 0.8       , 0.88235294, ..., 0.46346405, 0.41248366,\n",
              "        0.20856209],\n",
              "       [0.67058824, 0.70588235, 0.77254902, ..., 0.73984314, 0.73592157,\n",
              "        0.79866667]])"
            ]
          },
          "metadata": {
            "tags": []
          },
          "execution_count": 10
        }
      ]
    },
    {
      "cell_type": "code",
      "metadata": {
        "colab": {
          "base_uri": "https://localhost:8080/"
        },
        "id": "j3jEZlsDw-wy",
        "outputId": "ec6300e1-dde1-445d-fc2c-1d66796cc771"
      },
      "source": [
        "target"
      ],
      "execution_count": null,
      "outputs": [
        {
          "output_type": "execute_result",
          "data": {
            "text/plain": [
              "array([0, 0, 0, 0, 0, 0, 0, 0, 0, 0, 0, 0, 0, 0, 0, 0, 0, 0, 0, 0, 0, 0,\n",
              "       0, 0, 0, 0, 0, 0, 0, 0, 0, 0, 0, 0, 0, 0, 0, 0, 0, 0, 0, 0, 0, 0,\n",
              "       0, 0, 0, 0, 0, 0, 0, 0, 0, 0, 0, 0, 0, 0, 0, 0, 1, 1, 1, 1, 1, 1,\n",
              "       1, 1, 1, 1, 1, 1, 1, 1, 1, 1, 1, 1, 1, 1, 1, 1, 1, 1, 1, 1, 1, 1,\n",
              "       1, 1, 1, 1, 1, 1, 1, 1, 1, 1, 1, 1, 1, 1, 1, 1, 1, 1, 1, 1, 1, 1,\n",
              "       1, 1])"
            ]
          },
          "metadata": {
            "tags": []
          },
          "execution_count": 11
        }
      ]
    },
    {
      "cell_type": "code",
      "metadata": {
        "colab": {
          "base_uri": "https://localhost:8080/"
        },
        "id": "JzME0uYixDda",
        "outputId": "d544c90c-5cd5-4c3f-f4d5-ace527fd1fec"
      },
      "source": [
        "np.unique(target,return_counts=True)"
      ],
      "execution_count": null,
      "outputs": [
        {
          "output_type": "execute_result",
          "data": {
            "text/plain": [
              "(array([0, 1]), array([60, 52]))"
            ]
          },
          "metadata": {
            "tags": []
          },
          "execution_count": 12
        }
      ]
    },
    {
      "cell_type": "code",
      "metadata": {
        "id": "JddwQhAOxOKI"
      },
      "source": [
        "from sklearn.model_selection import train_test_split\n",
        "x_train,x_test,y_train,y_test=train_test_split(flat_data,target,test_size=0.3,random_state=0)\n"
      ],
      "execution_count": null,
      "outputs": []
    },
    {
      "cell_type": "code",
      "metadata": {
        "colab": {
          "base_uri": "https://localhost:8080/"
        },
        "id": "CToK4L0D3mYi",
        "outputId": "f836f12e-ccd6-4d00-fc49-89f72edcb9f7"
      },
      "source": [
        "#SVM using GridSearch CV\n",
        "from sklearn.model_selection import GridSearchCV\n",
        "from sklearn import svm\n",
        "param_grid = [\n",
        "             {'C':[1,10,100,1000],'kernel':['linear']}, \n",
        "            {'C':[1,10,100,1000],'gamma':[0.001,0.0001],'kernel':['rbf']}\n",
        "]\n",
        "svc=svm.SVC(probability=True)\n",
        "dev=GridSearchCV(svc,param_grid)\n",
        "dev.fit(x_train,y_train)"
      ],
      "execution_count": null,
      "outputs": [
        {
          "output_type": "execute_result",
          "data": {
            "text/plain": [
              "GridSearchCV(cv=None, error_score=nan,\n",
              "             estimator=SVC(C=1.0, break_ties=False, cache_size=200,\n",
              "                           class_weight=None, coef0=0.0,\n",
              "                           decision_function_shape='ovr', degree=3,\n",
              "                           gamma='scale', kernel='rbf', max_iter=-1,\n",
              "                           probability=True, random_state=None, shrinking=True,\n",
              "                           tol=0.001, verbose=False),\n",
              "             iid='deprecated', n_jobs=None,\n",
              "             param_grid=[{'C': [1, 10, 100, 1000], 'kernel': ['linear']},\n",
              "                         {'C': [1, 10, 100, 1000], 'gamma': [0.001, 0.0001],\n",
              "                          'kernel': ['rbf']}],\n",
              "             pre_dispatch='2*n_jobs', refit=True, return_train_score=False,\n",
              "             scoring=None, verbose=0)"
            ]
          },
          "metadata": {
            "tags": []
          },
          "execution_count": 14
        }
      ]
    },
    {
      "cell_type": "code",
      "metadata": {
        "id": "pkzWpUp6soPh"
      },
      "source": [
        "abc=svm.SVC(kernel='rbf',C=1,gamma='scale',random_state=0)"
      ],
      "execution_count": null,
      "outputs": []
    },
    {
      "cell_type": "code",
      "metadata": {
        "id": "hEGCRo_l6p33",
        "colab": {
          "base_uri": "https://localhost:8080/"
        },
        "outputId": "30d6bab9-272f-4956-ec73-6407b80a41fa"
      },
      "source": [
        "y_pred=dev.predict(x_test)\n",
        "y_pred"
      ],
      "execution_count": null,
      "outputs": [
        {
          "output_type": "execute_result",
          "data": {
            "text/plain": [
              "array([1, 0, 1, 0, 1, 1, 1, 1, 0, 1, 0, 1, 0, 1, 1, 1, 0, 0, 0, 0, 0, 1,\n",
              "       1, 0, 1, 1, 0, 0, 0, 1, 1, 1, 0, 1])"
            ]
          },
          "metadata": {
            "tags": []
          },
          "execution_count": 16
        }
      ]
    },
    {
      "cell_type": "code",
      "metadata": {
        "id": "Qvcpej0B7G1G",
        "colab": {
          "base_uri": "https://localhost:8080/"
        },
        "outputId": "5ceca8c4-9ab6-4b1e-a823-3fd9cb03151c"
      },
      "source": [
        "y_test"
      ],
      "execution_count": null,
      "outputs": [
        {
          "output_type": "execute_result",
          "data": {
            "text/plain": [
              "array([0, 0, 0, 1, 1, 0, 1, 0, 1, 0, 0, 1, 1, 1, 1, 1, 0, 0, 1, 0, 0, 1,\n",
              "       1, 0, 1, 0, 0, 0, 1, 0, 1, 0, 0, 1])"
            ]
          },
          "metadata": {
            "tags": []
          },
          "execution_count": 17
        }
      ]
    },
    {
      "cell_type": "code",
      "metadata": {
        "id": "O2bR64mV_IlC",
        "colab": {
          "base_uri": "https://localhost:8080/"
        },
        "outputId": "7a36d40e-73bc-4f3d-ff72-cc63b0139804"
      },
      "source": [
        "#accuracy score\n",
        "from sklearn.metrics import accuracy_score,confusion_matrix,classification_report\n",
        "accuracy_score(y_pred,y_test)"
      ],
      "execution_count": null,
      "outputs": [
        {
          "output_type": "execute_result",
          "data": {
            "text/plain": [
              "0.6176470588235294"
            ]
          },
          "metadata": {
            "tags": []
          },
          "execution_count": 18
        }
      ]
    },
    {
      "cell_type": "code",
      "metadata": {
        "id": "6P2Z39HcTUX0",
        "colab": {
          "base_uri": "https://localhost:8080/"
        },
        "outputId": "3a950c4e-c769-4bac-8d35-122aa0a11185"
      },
      "source": [
        "#classification report\n",
        "print(classification_report(y_pred,y_test))"
      ],
      "execution_count": null,
      "outputs": [
        {
          "output_type": "stream",
          "text": [
            "              precision    recall  f1-score   support\n",
            "\n",
            "           0       0.56      0.67      0.61        15\n",
            "           1       0.69      0.58      0.63        19\n",
            "\n",
            "    accuracy                           0.62        34\n",
            "   macro avg       0.62      0.62      0.62        34\n",
            "weighted avg       0.63      0.62      0.62        34\n",
            "\n"
          ],
          "name": "stdout"
        }
      ]
    },
    {
      "cell_type": "code",
      "metadata": {
        "id": "5PCW1aJL_m1S",
        "colab": {
          "base_uri": "https://localhost:8080/"
        },
        "outputId": "9ccc6b4d-1934-4a35-b78b-c06564c9ed86"
      },
      "source": [
        "#confusion matrix\n",
        "confusion_matrix(y_pred,y_test)"
      ],
      "execution_count": null,
      "outputs": [
        {
          "output_type": "execute_result",
          "data": {
            "text/plain": [
              "array([[10,  5],\n",
              "       [ 8, 11]])"
            ]
          },
          "metadata": {
            "tags": []
          },
          "execution_count": 20
        }
      ]
    },
    {
      "cell_type": "code",
      "metadata": {
        "id": "6pH06mVZVL9W",
        "colab": {
          "base_uri": "https://localhost:8080/"
        },
        "outputId": "a162f880-6c4d-4817-fe83-cb9bbade9953"
      },
      "source": [
        "#cross validation\n",
        "from sklearn.model_selection import cross_val_score\n",
        "from sklearn.svm import SVC\n",
        "cross_val_score(SVC(),x_train,y_train)"
      ],
      "execution_count": null,
      "outputs": [
        {
          "output_type": "execute_result",
          "data": {
            "text/plain": [
              "array([0.875     , 0.5625    , 0.75      , 0.93333333, 0.8       ])"
            ]
          },
          "metadata": {
            "tags": []
          },
          "execution_count": 21
        }
      ]
    },
    {
      "cell_type": "code",
      "metadata": {
        "id": "K_yZ29W-jecQ",
        "colab": {
          "base_uri": "https://localhost:8080/"
        },
        "outputId": "614311de-9843-41c3-d85e-41dfe04d21c2"
      },
      "source": [
        "from sklearn.model_selection import KFold\n",
        "kf=KFold(n_splits=10,random_state=1,shuffle=True)\n",
        "print(kf)"
      ],
      "execution_count": null,
      "outputs": [
        {
          "output_type": "stream",
          "text": [
            "KFold(n_splits=10, random_state=1, shuffle=True)\n"
          ],
          "name": "stdout"
        }
      ]
    },
    {
      "cell_type": "code",
      "metadata": {
        "id": "q4zKAPz5xjC1",
        "colab": {
          "base_uri": "https://localhost:8080/"
        },
        "outputId": "449acf01-874c-4c48-c026-63926fffee39"
      },
      "source": [
        "#accuracy score after cross validation\n",
        "accuracy=cross_val_score(abc,x_train,y_train,scoring='accuracy',cv=10)\n",
        "print(accuracy)\n",
        "mean=np.mean(accuracy)\n",
        "print(mean)"
      ],
      "execution_count": null,
      "outputs": [
        {
          "output_type": "stream",
          "text": [
            "[0.875      0.875      0.625      0.75       0.875      0.75\n",
            " 0.875      0.75       0.85714286 0.85714286]\n",
            "0.8089285714285713\n"
          ],
          "name": "stdout"
        }
      ]
    },
    {
      "cell_type": "code",
      "metadata": {
        "id": "-_jmTp-JDUKJ"
      },
      "source": [
        "import pickle\n",
        "pickle.dump(dev,open('img_model.p','wb'))"
      ],
      "execution_count": null,
      "outputs": []
    },
    {
      "cell_type": "code",
      "metadata": {
        "id": "3-NyU-cvEITu",
        "colab": {
          "base_uri": "https://localhost:8080/",
          "height": 322
        },
        "outputId": "11ee1424-50a1-43f6-ead7-003321ff0720"
      },
      "source": [
        "#prediction for new image\n",
        "# 0 is Elephant and 1 is Giraffe\n",
        "model1=pickle.load(open('img_model.p','rb'))\n",
        "flat_data=[]\n",
        "url=input('Enter your URL')\n",
        "img=imread(url)\n",
        "img_resized=resize(img,(150,150,3))\n",
        "flat_data.append(img_resized.flatten())\n",
        "flat_data=np.array(flat_data)\n",
        "print (img.shape)\n",
        "plt.imshow(img_resized)\n",
        "y_output=model1.predict(flat_data)\n",
        "y_output\n",
        "print(f'Predicted Output: {y_output}')\n"
      ],
      "execution_count": null,
      "outputs": [
        {
          "output_type": "stream",
          "text": [
            "Enter your URLhttps://upload.wikimedia.org/wikipedia/commons/9/9f/Giraffe_standing.jpg\n",
            "(2288, 1712, 3)\n",
            "Predicted Output: [1]\n"
          ],
          "name": "stdout"
        },
        {
          "output_type": "display_data",
          "data": {
            "image/png": "[encoded data removed]",
            "text/plain": [
              "<Figure size 432x288 with 1 Axes>"
            ]
          },
          "metadata": {
            "tags": [],
            "needs_background": "light"
          }
        }
      ]
    }
  ]
}